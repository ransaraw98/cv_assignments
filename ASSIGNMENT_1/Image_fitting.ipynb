{
 "cells": [
  {
   "cell_type": "code",
   "execution_count": 48,
   "metadata": {},
   "outputs": [
    {
     "name": "stdout",
     "output_type": "stream",
     "text": [
      "<class 'numpy.ndarray'> <class 'numpy.ndarray'>\n"
     ]
    },
    {
     "data": {
      "image/png": "[encoded data removed]",
      "text/plain": [
       "<matplotlib.figure.Figure at 0x19162861128>"
      ]
     },
     "metadata": {},
     "output_type": "display_data"
    }
   ],
   "source": [
    "import numpy as np\n",
    "import matplotlib.pyplot as plt\n",
    "m = 2\n",
    "b = 1\n",
    "\n",
    "x= np.arange(0,11,1)\n",
    "yt = m*x + b\n",
    "y = yt + np.random.normal(0,2,len(x))\n",
    "Y = y.T \n",
    "X = x.T\n",
    "o = np.ones((11,1))\n",
    "x_col = x.reshape(11,1)\n",
    "print(type(x),type(o))\n",
    "X = np.concatenate((x_col,o),1)\n",
    "B = np.linalg.inv(X.T@X)@X.T@Y\n",
    "y2 = B[0]*x + B[1]\n",
    "#plt.plot(yt,x)\n",
    "plt.plot(y2,x,'r')\n",
    "plt.scatter(y,x)\n",
    "plt.show()"
   ]
  },
  {
   "cell_type": "code",
   "execution_count": null,
   "metadata": {
    "collapsed": true
   },
   "outputs": [],
   "source": []
  }
 ],
 "metadata": {
  "kernelspec": {
   "display_name": "Python 3",
   "language": "python",
   "name": "python3"
  },
  "language_info": {
   "codemirror_mode": {
    "name": "ipython",
    "version": 3
   },
   "file_extension": ".py",
   "mimetype": "text/x-python",
   "name": "python",
   "nbconvert_exporter": "python",
   "pygments_lexer": "ipython3",
   "version": "3.6.3"
  }
 },
 "nbformat": 4,
 "nbformat_minor": 2
}

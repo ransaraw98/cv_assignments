{
 "cells": [
  {
   "cell_type": "code",
   "execution_count": null,
   "metadata": {
    "collapsed": true
   },
   "outputs": [],
   "source": [
    "def cal_weights(scale):\n",
    "    w_x0 = np.array([])\n",
    "    w_x1 = np.array([])\n",
    "    w_y0 = np.array([])\n",
    "    w_y1 = np.array([])\n",
    "    for i in range(0,scale):\n",
    "            np.append(w_x0,i)\n",
    "            np.append(w_y0,i)\n",
    "            np.append(w_x1,scale-1-i)\n",
    "            np.append(w_y1,scale-1-i)\n",
    "    w_x0 = w_x0.T\n",
    "    w_x1 = w_x1.T\n",
    "    w_a = np.matmul(w_x1,w_y1)\n",
    "    return w_a"
   ]
  },
  {
   "cell_type": "code",
   "execution_count": null,
   "metadata": {
    "collapsed": true
   },
   "outputs": [],
   "source": [
    "# Standard imports\n",
    "import cv2 as cv\n",
    "import numpy as np;\n",
    "\n",
    "# Read image\n",
    "im = cv.imread(\"../images/rice.png\",cv.IMREAD_GRAYSCALE)\n",
    "ret,im_thresh = cv.threshold(im,125,255,cv.THRESH_BINARY_INV)\n",
    "#print(type(im[0][0]))\n",
    "# Set up the detector with default parameters.\n",
    "\n",
    "params = cv.SimpleBlobDetector_Params()\n",
    "params.filterByArea = True\n",
    "params.minArea =20\n",
    "params.maxArea = 1000\n",
    "params.filterByColor = 1\n",
    "params.blobColor =0\n",
    "params.filterByInertia = True\n",
    "params.minInertiaRatio = 0.01\n",
    "params.maxInertiaRatio = 0.5\n",
    "params.filterByConvexity = True\n",
    "params.minConvexity = 0.35\n",
    "params.filterByCircularity = True\n",
    "params.minCircularity = 0.001\n",
    "\n",
    "\n",
    "detector = cv.SimpleBlobDetector_create(params)\n",
    "# Detect blobs.\n",
    "keypoints = detector.detect(im_thresh)\n",
    "\n",
    "# Draw detected blobs as red circles.\n",
    "#cv2.DRAW_MATCHES_FLAGS_DRAW_RICH_KEYPOINTS ensures the size of the circle corresponds to the size of blob\n",
    "im_with_keypoints = cv.drawKeypoints(im_thresh, keypoints, np.array([]), (0,0,255), cv.DRAW_MATCHES_FLAGS_DEFAULT)\n",
    "\n",
    "# Show keypoints\n",
    "print(len(keypoints))\n",
    "cv.imshow(\"Keypoints\", im_with_keypoints)\n",
    "cv.waitKey(0)"
   ]
  },
  {
   "cell_type": "code",
   "execution_count": null,
   "metadata": {
    "collapsed": true
   },
   "outputs": [],
   "source": [
    "def bilinear_interpolate(im, x, y):\n",
    "    x = np.asarray(x)\n",
    "    y = np.asarray(y)\n",
    "\n",
    "    x0 = np.floor(x).astype(int)\n",
    "    x1 = x0 + 4\n",
    "    y0 = np.floor(y).astype(int)\n",
    "    y1 = y0 + 4\n",
    "\n",
    "    x0 = np.clip(x0, 0, im.shape[1]-1);\n",
    "    x1 = np.clip(x1, 0, im.shape[1]-1);\n",
    "    y0 = np.clip(y0, 0, im.shape[0]-1);\n",
    "    y1 = np.clip(y1, 0, im.shape[0]-1);\n",
    "\n",
    "    Ia = im[ y0, x0 ]\n",
    "    Ib = im[ y1, x0 ]\n",
    "    Ic = im[ y0, x1 ]\n",
    "    Id = im[ y1, x1 ]\n",
    "\n",
    "    wa = (x1-x) * (y1-y)\n",
    "    wb = (x1-x) * (y-y0)\n",
    "    wc = (x-x0) * (y1-y)\n",
    "    wd = (x-x0) * (y-y0)\n",
    "\n",
    "    return wa*Ia + wb*Ib + wc*Ic + wd*Id"
   ]
  },
  {
   "cell_type": "code",
   "execution_count": null,
   "metadata": {
    "collapsed": true
   },
   "outputs": [],
   "source": [
    "import cv2 as cv\n",
    "import numpy as np\n",
    "import matplotlib.pyplot as plt\n",
    "import math \n",
    "img = cv.imread('../images/assign1/im02small.png',cv.IMREAD_COLOR)\n",
    "#img = cv.cvtColor(img,cv.COLOR_BGR2RGB)\n",
    "scale = 4\n",
    "def roundC(n):\n",
    "    if n - math.floor(n) < 0.5:\n",
    "        return math.floor(n)\n",
    "    return math.ceil(n)\n",
    "rows = math.ceil(scale*img.shape[0])\n",
    "cols = math.ceil(scale*img.shape[1])\n",
    "zoomed = np.zeros((rows,cols,3),dtype=img.dtype)\n",
    "for i in range(int(rows)):\n",
    "    for j in range(int(cols)):\n",
    "        x = roundC(i/scale)\n",
    "        y = roundC(j/scale)\n",
    "        if x == int(rows/scale):\n",
    "            x = x -1\n",
    "        if y == int(cols/scale):\n",
    "            y = y -1\n",
    "        zoomed[i,j] = img[x][y]\n",
    "cv.imshow('Original',img)\n",
    "cv.imshow('Zoomed',zoomed)\n",
    "cv.waitKey(0)\n",
    "cv.destroyAllWindows()\n",
    "img_correct = cv.imread('../images/assign1/im02.png',cv.IMREAD_REDUCED_GRAYSCALE_2)"
   ]
  },
  {
   "cell_type": "code",
   "execution_count": null,
   "metadata": {
    "collapsed": true
   },
   "outputs": [],
   "source": [
    "import cv2 as cv\n",
    "import numpy as np\n",
    "import matplotlib.pyplot as plt\n",
    "import math \n",
    "img = cv.imread('../images/assign1/im02small.png',cv.IMREAD_REDUCED_GRAYSCALE_2)\n",
    "scale = 4;\n",
    "rows = np.arange(0,img.shape[0],1,dtype=int)\n",
    "cols = np.arange(0,img.shape[1],1,dtype=int)\n",
    "zoomed = np.zeros((img.shape[0]*scale,img.shape[1]*scale),dtype=img.dtype)\n",
    "xp = rows*scale\n",
    "yp = cols*scale\n",
    "for i in rows:\n",
    "    for j in cols:\n",
    "        zoomed[xp[i]][yp[j]] = img[i][j]\n",
    "x = np.arange(0,len(rows)*scale,1)\n",
    "y = np.arange(0,len(cols)*scale,1)\n",
    "#now we have the large image with back spaces within the neighboring data pixels"
   ]
  }
 ],
 "metadata": {
  "kernelspec": {
   "display_name": "Python 3",
   "language": "python",
   "name": "python3"
  },
  "language_info": {
   "codemirror_mode": {
    "name": "ipython",
    "version": 3
   },
   "file_extension": ".py",
   "mimetype": "text/x-python",
   "name": "python",
   "nbconvert_exporter": "python",
   "pygments_lexer": "ipython3",
   "version": "3.6.3"
  }
 },
 "nbformat": 4,
 "nbformat_minor": 4
}

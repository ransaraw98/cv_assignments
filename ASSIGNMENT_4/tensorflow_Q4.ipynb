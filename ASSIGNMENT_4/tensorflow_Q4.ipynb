{
 "metadata": {
  "language_info": {
   "codemirror_mode": {
    "name": "ipython",
    "version": 3
   },
   "file_extension": ".py",
   "mimetype": "text/x-python",
   "name": "python",
   "nbconvert_exporter": "python",
   "pygments_lexer": "ipython3",
   "version": "3.8.8"
  },
  "orig_nbformat": 2,
  "kernelspec": {
   "name": "python3",
   "display_name": "Python 3",
   "language": "python"
  }
 },
 "nbformat": 4,
 "nbformat_minor": 2,
 "cells": [
  {
   "cell_type": "code",
   "execution_count": 1,
   "metadata": {},
   "outputs": [],
   "source": [
    "import os\n",
    "#os.environ['TF_CPP_MIN_LOG_LEVEL'] ='2'\n",
    "\n",
    "import tensorflow as tf\n",
    "from tensorflow import keras\n",
    "from tensorflow.keras import layers\n",
    "from tensorflow.keras.datasets import cifar10\n",
    "\n",
    "#physical_devices = tf.config.list_physical_devices('GPU')\n",
    "#tf.config.experimental.set_memory_growth(physical_devices[0],True)"
   ]
  },
  {
   "cell_type": "code",
   "execution_count": 6,
   "metadata": {},
   "outputs": [
    {
     "output_type": "stream",
     "name": "stdout",
     "text": [
      "Epoch 1/5\n",
      "100/100 - 2s - loss: 2.0938 - accuracy: 0.2716\n",
      "Epoch 2/5\n",
      "100/100 - 1s - loss: 1.7876 - accuracy: 0.3678\n",
      "Epoch 3/5\n",
      "100/100 - 1s - loss: 1.6921 - accuracy: 0.4004\n",
      "Epoch 4/5\n",
      "100/100 - 1s - loss: 1.6332 - accuracy: 0.4190\n",
      "Epoch 5/5\n",
      "100/100 - 1s - loss: 1.5773 - accuracy: 0.4414\n",
      "20/20 - 0s - loss: 1.5815 - accuracy: 0.4402\n",
      "Model: \"sequential_2\"\n",
      "_________________________________________________________________\n",
      "Layer (type)                 Output Shape              Param #   \n",
      "=================================================================\n",
      "dense_6 (Dense)              (None, 512)               1573376   \n",
      "_________________________________________________________________\n",
      "dense_7 (Dense)              (None, 256)               131328    \n",
      "_________________________________________________________________\n",
      "dense_8 (Dense)              (None, 10)                2570      \n",
      "=================================================================\n",
      "Total params: 1,707,274\n",
      "Trainable params: 1,707,274\n",
      "Non-trainable params: 0\n",
      "_________________________________________________________________\n",
      "None\n"
     ]
    },
    {
     "output_type": "error",
     "ename": "SystemExit",
     "evalue": "",
     "traceback": [
      "An exception has occurred, use %tb to see the full traceback.\n",
      "\u001b[1;31mSystemExit\u001b[0m\n"
     ]
    }
   ],
   "source": [
    "(x_train, y_train),(x_test,y_test) = cifar10.load_data()\n",
    "x_train = x_train.reshape(-1,3*32*32).astype(\"float32\")/255.0 #flattern\n",
    "x_test = x_test.reshape(-1,3*32*32).astype(\"float32\")/255.0    #flattern\n",
    "\n",
    "model = keras.Sequential(\n",
    "    [\n",
    "        keras.Input(shape=(32*32*3)),\n",
    "        layers.Dense(512,activation='relu'),\n",
    "        layers.Dense(256,activation='relu'),\n",
    "        layers.Dense(10),\n",
    "        ]\n",
    "        )\n",
    "model.compile( loss = keras.losses.SparseCategoricalCrossentropy(from_logits=True),\n",
    "                optimizer = keras.optimizers.Adam(lr = 0.001),\n",
    "                metrics = [\"accuracy\"],\n",
    ")\n",
    "model.fit(x_train, y_train, batch_size=500, epochs =5, verbose=2)\n",
    "model.evaluate(x_test,y_test,batch_size = 500,verbose=2)\n",
    "\n",
    "print(model.summary())\n",
    "import sys\n",
    "sys.exit()"
   ]
  },
  {
   "cell_type": "code",
   "execution_count": 4,
   "metadata": {},
   "outputs": [
    {
     "output_type": "stream",
     "name": "stdout",
     "text": [
      "(10000, 3072)\n"
     ]
    }
   ],
   "source": [
    "print(x_test.shape)"
   ]
  }
 ]
}
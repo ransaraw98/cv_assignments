{
 "metadata": {
  "language_info": {
   "codemirror_mode": {
    "name": "ipython",
    "version": 3
   },
   "file_extension": ".py",
   "mimetype": "text/x-python",
   "name": "python",
   "nbconvert_exporter": "python",
   "pygments_lexer": "ipython3",
   "version": "3.8.5-final"
  },
  "orig_nbformat": 2,
  "kernelspec": {
   "name": "python3",
   "display_name": "Python 3",
   "language": "python"
  }
 },
 "nbformat": 4,
 "nbformat_minor": 2,
 "cells": [
  {
   "cell_type": "code",
   "execution_count": 52,
   "metadata": {},
   "outputs": [
    {
     "output_type": "stream",
     "name": "stdout",
     "text": [
      "Points \n [[0. 0. 1. 1. 0.]\n [0. 1. 1. 0. 0.]\n [1. 1. 1. 1. 1.]]\nH_1 \n [[2.  0.  0. ]\n [0.  2.  0. ]\n [0.3 0.5 1. ]]\nH_2\n [[ 0.5        0.8660254  0.       ]\n [-0.8660254  0.5        0.       ]\n [ 0.         0.         1.       ]]\nH_3 \n [[-1.  0.  0.]\n [ 0.  1.  0.]\n [ 0.  0.  1.]]\nH_4 \n [[-1.          1.73205081  0.        ]\n [ 1.73205081  1.          0.        ]\n [-0.3         0.5         1.        ]]\n"
     ]
    },
    {
     "output_type": "display_data",
     "data": {
      "text/plain": "<Figure size 432x288 with 1 Axes>",
      "image/svg+xml": "<?xml version=\"1.0\" encoding=\"utf-8\" standalone=\"no\"?>\r\n<!DOCTYPE svg PUBLIC \"-//W3C//DTD SVG 1.1//EN\"\r\n  \"http://www.w3.org/Graphics/SVG/1.1/DTD/svg11.dtd\">\r\n<!-- Created with matplotlib (https://matplotlib.org/) -->\r\n<svg height=\"248.518125pt\" version=\"1.1\" viewBox=\"0 0 238.819801 248.518125\" width=\"238.819801pt\" xmlns=\"http://www.w3.org/2000/svg\" xmlns:xlink=\"http://www.w3.org/1999/xlink\">\r\n <metadata>\r\n  <rdf:RDF xmlns:cc=\"http://creativecommons.org/ns#\" xmlns:dc=\"http://purl.org/dc/elements/1.1/\" xmlns:rdf=\"http://www.w3.org/1999/02/22-rdf-syntax-ns#\">\r\n   <cc:Work>\r\n    <dc:type rdf:resource=\"http://purl.org/dc/dcmitype/StillImage\"/>\r\n    <dc:date>2021-03-13T21:52:07.369531</dc:date>\r\n    <dc:format>image/svg+xml</dc:format>\r\n    <dc:creator>\r\n     <cc:Agent>\r\n      <dc:title>Matplotlib v3.3.2, https://matplotlib.org/</dc:title>\r\n     </cc:Agent>\r\n    </dc:creator>\r\n   </cc:Work>\r\n  </rdf:RDF>\r\n </metadata>\r\n <defs>\r\n  <style type=\"text/css\">*{stroke-linecap:butt;stroke-linejoin:round;}</style>\r\n </defs>\r\n <g id=\"figure_1\">\r\n  <g id=\"patch_1\">\r\n   <path d=\"M 0 248.518125 \r\nL 238.819801 248.518125 \r\nL 238.819801 0 \r\nL 0 0 \r\nz\r\n\" style=\"fill:none;\"/>\r\n  </g>\r\n  <g id=\"axes_1\">\r\n   <g id=\"patch_2\">\r\n    <path d=\"M 38.482813 224.64 \r\nL 231.619801 224.64 \r\nL 231.619801 7.2 \r\nL 38.482813 7.2 \r\nz\r\n\" style=\"fill:#ffffff;\"/>\r\n   </g>\r\n   <g id=\"matplotlib.axis_1\">\r\n    <g id=\"xtick_1\">\r\n     <g id=\"line2d_1\">\r\n      <defs>\r\n       <path d=\"M 0 0 \r\nL 0 3.5 \r\n\" id=\"m07bf6fd545\" style=\"stroke:#000000;stroke-width:0.8;\"/>\r\n      </defs>\r\n      <g>\r\n       <use style=\"stroke:#000000;stroke-width:0.8;\" x=\"72.623189\" xlink:href=\"#m07bf6fd545\" y=\"224.64\"/>\r\n      </g>\r\n     </g>\r\n     <g id=\"text_1\">\r\n      <!-- −1 -->\r\n      <g transform=\"translate(65.252096 239.238437)scale(0.1 -0.1)\">\r\n       <defs>\r\n        <path d=\"M 10.59375 35.5 \r\nL 73.1875 35.5 \r\nL 73.1875 27.203125 \r\nL 10.59375 27.203125 \r\nz\r\n\" id=\"DejaVuSans-8722\"/>\r\n        <path d=\"M 12.40625 8.296875 \r\nL 28.515625 8.296875 \r\nL 28.515625 63.921875 \r\nL 10.984375 60.40625 \r\nL 10.984375 69.390625 \r\nL 28.421875 72.90625 \r\nL 38.28125 72.90625 \r\nL 38.28125 8.296875 \r\nL 54.390625 8.296875 \r\nL 54.390625 0 \r\nL 12.40625 0 \r\nz\r\n\" id=\"DejaVuSans-49\"/>\r\n       </defs>\r\n       <use xlink:href=\"#DejaVuSans-8722\"/>\r\n       <use x=\"83.789062\" xlink:href=\"#DejaVuSans-49\"/>\r\n      </g>\r\n     </g>\r\n    </g>\r\n    <g id=\"xtick_2\">\r\n     <g id=\"line2d_2\">\r\n      <g>\r\n       <use style=\"stroke:#000000;stroke-width:0.8;\" x=\"131.799842\" xlink:href=\"#m07bf6fd545\" y=\"224.64\"/>\r\n      </g>\r\n     </g>\r\n     <g id=\"text_2\">\r\n      <!-- 0 -->\r\n      <g transform=\"translate(128.618592 239.238437)scale(0.1 -0.1)\">\r\n       <defs>\r\n        <path d=\"M 31.78125 66.40625 \r\nQ 24.171875 66.40625 20.328125 58.90625 \r\nQ 16.5 51.421875 16.5 36.375 \r\nQ 16.5 21.390625 20.328125 13.890625 \r\nQ 24.171875 6.390625 31.78125 6.390625 \r\nQ 39.453125 6.390625 43.28125 13.890625 \r\nQ 47.125 21.390625 47.125 36.375 \r\nQ 47.125 51.421875 43.28125 58.90625 \r\nQ 39.453125 66.40625 31.78125 66.40625 \r\nz\r\nM 31.78125 74.21875 \r\nQ 44.046875 74.21875 50.515625 64.515625 \r\nQ 56.984375 54.828125 56.984375 36.375 \r\nQ 56.984375 17.96875 50.515625 8.265625 \r\nQ 44.046875 -1.421875 31.78125 -1.421875 \r\nQ 19.53125 -1.421875 13.0625 8.265625 \r\nQ 6.59375 17.96875 6.59375 36.375 \r\nQ 6.59375 54.828125 13.0625 64.515625 \r\nQ 19.53125 74.21875 31.78125 74.21875 \r\nz\r\n\" id=\"DejaVuSans-48\"/>\r\n       </defs>\r\n       <use xlink:href=\"#DejaVuSans-48\"/>\r\n      </g>\r\n     </g>\r\n    </g>\r\n    <g id=\"xtick_3\">\r\n     <g id=\"line2d_3\">\r\n      <g>\r\n       <use style=\"stroke:#000000;stroke-width:0.8;\" x=\"190.976495\" xlink:href=\"#m07bf6fd545\" y=\"224.64\"/>\r\n      </g>\r\n     </g>\r\n     <g id=\"text_3\">\r\n      <!-- 1 -->\r\n      <g transform=\"translate(187.795245 239.238437)scale(0.1 -0.1)\">\r\n       <use xlink:href=\"#DejaVuSans-49\"/>\r\n      </g>\r\n     </g>\r\n    </g>\r\n   </g>\r\n   <g id=\"matplotlib.axis_2\">\r\n    <g id=\"ytick_1\">\r\n     <g id=\"line2d_4\">\r\n      <defs>\r\n       <path d=\"M 0 0 \r\nL -3.5 0 \r\n\" id=\"m9b8f6bdba3\" style=\"stroke:#000000;stroke-width:0.8;\"/>\r\n      </defs>\r\n      <g>\r\n       <use style=\"stroke:#000000;stroke-width:0.8;\" x=\"38.482813\" xlink:href=\"#m9b8f6bdba3\" y=\"222.684532\"/>\r\n      </g>\r\n     </g>\r\n     <g id=\"text_4\">\r\n      <!-- −1.0 -->\r\n      <g transform=\"translate(7.2 226.483751)scale(0.1 -0.1)\">\r\n       <defs>\r\n        <path d=\"M 10.6875 12.40625 \r\nL 21 12.40625 \r\nL 21 0 \r\nL 10.6875 0 \r\nz\r\n\" id=\"DejaVuSans-46\"/>\r\n       </defs>\r\n       <use xlink:href=\"#DejaVuSans-8722\"/>\r\n       <use x=\"83.789062\" xlink:href=\"#DejaVuSans-49\"/>\r\n       <use x=\"147.412109\" xlink:href=\"#DejaVuSans-46\"/>\r\n       <use x=\"179.199219\" xlink:href=\"#DejaVuSans-48\"/>\r\n      </g>\r\n     </g>\r\n    </g>\r\n    <g id=\"ytick_2\">\r\n     <g id=\"line2d_5\">\r\n      <g>\r\n       <use style=\"stroke:#000000;stroke-width:0.8;\" x=\"38.482813\" xlink:href=\"#m9b8f6bdba3\" y=\"193.096205\"/>\r\n      </g>\r\n     </g>\r\n     <g id=\"text_5\">\r\n      <!-- −0.5 -->\r\n      <g transform=\"translate(7.2 196.895424)scale(0.1 -0.1)\">\r\n       <defs>\r\n        <path d=\"M 10.796875 72.90625 \r\nL 49.515625 72.90625 \r\nL 49.515625 64.59375 \r\nL 19.828125 64.59375 \r\nL 19.828125 46.734375 \r\nQ 21.96875 47.46875 24.109375 47.828125 \r\nQ 26.265625 48.1875 28.421875 48.1875 \r\nQ 40.625 48.1875 47.75 41.5 \r\nQ 54.890625 34.8125 54.890625 23.390625 \r\nQ 54.890625 11.625 47.5625 5.09375 \r\nQ 40.234375 -1.421875 26.90625 -1.421875 \r\nQ 22.3125 -1.421875 17.546875 -0.640625 \r\nQ 12.796875 0.140625 7.71875 1.703125 \r\nL 7.71875 11.625 \r\nQ 12.109375 9.234375 16.796875 8.0625 \r\nQ 21.484375 6.890625 26.703125 6.890625 \r\nQ 35.15625 6.890625 40.078125 11.328125 \r\nQ 45.015625 15.765625 45.015625 23.390625 \r\nQ 45.015625 31 40.078125 35.4375 \r\nQ 35.15625 39.890625 26.703125 39.890625 \r\nQ 22.75 39.890625 18.8125 39.015625 \r\nQ 14.890625 38.140625 10.796875 36.28125 \r\nz\r\n\" id=\"DejaVuSans-53\"/>\r\n       </defs>\r\n       <use xlink:href=\"#DejaVuSans-8722\"/>\r\n       <use x=\"83.789062\" xlink:href=\"#DejaVuSans-48\"/>\r\n       <use x=\"147.412109\" xlink:href=\"#DejaVuSans-46\"/>\r\n       <use x=\"179.199219\" xlink:href=\"#DejaVuSans-53\"/>\r\n      </g>\r\n     </g>\r\n    </g>\r\n    <g id=\"ytick_3\">\r\n     <g id=\"line2d_6\">\r\n      <g>\r\n       <use style=\"stroke:#000000;stroke-width:0.8;\" x=\"38.482813\" xlink:href=\"#m9b8f6bdba3\" y=\"163.507879\"/>\r\n      </g>\r\n     </g>\r\n     <g id=\"text_6\">\r\n      <!-- 0.0 -->\r\n      <g transform=\"translate(15.579688 167.307098)scale(0.1 -0.1)\">\r\n       <use xlink:href=\"#DejaVuSans-48\"/>\r\n       <use x=\"63.623047\" xlink:href=\"#DejaVuSans-46\"/>\r\n       <use x=\"95.410156\" xlink:href=\"#DejaVuSans-48\"/>\r\n      </g>\r\n     </g>\r\n    </g>\r\n    <g id=\"ytick_4\">\r\n     <g id=\"line2d_7\">\r\n      <g>\r\n       <use style=\"stroke:#000000;stroke-width:0.8;\" x=\"38.482813\" xlink:href=\"#m9b8f6bdba3\" y=\"133.919552\"/>\r\n      </g>\r\n     </g>\r\n     <g id=\"text_7\">\r\n      <!-- 0.5 -->\r\n      <g transform=\"translate(15.579688 137.718771)scale(0.1 -0.1)\">\r\n       <use xlink:href=\"#DejaVuSans-48\"/>\r\n       <use x=\"63.623047\" xlink:href=\"#DejaVuSans-46\"/>\r\n       <use x=\"95.410156\" xlink:href=\"#DejaVuSans-53\"/>\r\n      </g>\r\n     </g>\r\n    </g>\r\n    <g id=\"ytick_5\">\r\n     <g id=\"line2d_8\">\r\n      <g>\r\n       <use style=\"stroke:#000000;stroke-width:0.8;\" x=\"38.482813\" xlink:href=\"#m9b8f6bdba3\" y=\"104.331226\"/>\r\n      </g>\r\n     </g>\r\n     <g id=\"text_8\">\r\n      <!-- 1.0 -->\r\n      <g transform=\"translate(15.579688 108.130444)scale(0.1 -0.1)\">\r\n       <use xlink:href=\"#DejaVuSans-49\"/>\r\n       <use x=\"63.623047\" xlink:href=\"#DejaVuSans-46\"/>\r\n       <use x=\"95.410156\" xlink:href=\"#DejaVuSans-48\"/>\r\n      </g>\r\n     </g>\r\n    </g>\r\n    <g id=\"ytick_6\">\r\n     <g id=\"line2d_9\">\r\n      <g>\r\n       <use style=\"stroke:#000000;stroke-width:0.8;\" x=\"38.482813\" xlink:href=\"#m9b8f6bdba3\" y=\"74.742899\"/>\r\n      </g>\r\n     </g>\r\n     <g id=\"text_9\">\r\n      <!-- 1.5 -->\r\n      <g transform=\"translate(15.579688 78.542118)scale(0.1 -0.1)\">\r\n       <use xlink:href=\"#DejaVuSans-49\"/>\r\n       <use x=\"63.623047\" xlink:href=\"#DejaVuSans-46\"/>\r\n       <use x=\"95.410156\" xlink:href=\"#DejaVuSans-53\"/>\r\n      </g>\r\n     </g>\r\n    </g>\r\n    <g id=\"ytick_7\">\r\n     <g id=\"line2d_10\">\r\n      <g>\r\n       <use style=\"stroke:#000000;stroke-width:0.8;\" x=\"38.482813\" xlink:href=\"#m9b8f6bdba3\" y=\"45.154573\"/>\r\n      </g>\r\n     </g>\r\n     <g id=\"text_10\">\r\n      <!-- 2.0 -->\r\n      <g transform=\"translate(15.579688 48.953791)scale(0.1 -0.1)\">\r\n       <defs>\r\n        <path d=\"M 19.1875 8.296875 \r\nL 53.609375 8.296875 \r\nL 53.609375 0 \r\nL 7.328125 0 \r\nL 7.328125 8.296875 \r\nQ 12.9375 14.109375 22.625 23.890625 \r\nQ 32.328125 33.6875 34.8125 36.53125 \r\nQ 39.546875 41.84375 41.421875 45.53125 \r\nQ 43.3125 49.21875 43.3125 52.78125 \r\nQ 43.3125 58.59375 39.234375 62.25 \r\nQ 35.15625 65.921875 28.609375 65.921875 \r\nQ 23.96875 65.921875 18.8125 64.3125 \r\nQ 13.671875 62.703125 7.8125 59.421875 \r\nL 7.8125 69.390625 \r\nQ 13.765625 71.78125 18.9375 73 \r\nQ 24.125 74.21875 28.421875 74.21875 \r\nQ 39.75 74.21875 46.484375 68.546875 \r\nQ 53.21875 62.890625 53.21875 53.421875 \r\nQ 53.21875 48.921875 51.53125 44.890625 \r\nQ 49.859375 40.875 45.40625 35.40625 \r\nQ 44.1875 33.984375 37.640625 27.21875 \r\nQ 31.109375 20.453125 19.1875 8.296875 \r\nz\r\n\" id=\"DejaVuSans-50\"/>\r\n       </defs>\r\n       <use xlink:href=\"#DejaVuSans-50\"/>\r\n       <use x=\"63.623047\" xlink:href=\"#DejaVuSans-46\"/>\r\n       <use x=\"95.410156\" xlink:href=\"#DejaVuSans-48\"/>\r\n      </g>\r\n     </g>\r\n    </g>\r\n    <g id=\"ytick_8\">\r\n     <g id=\"line2d_11\">\r\n      <g>\r\n       <use style=\"stroke:#000000;stroke-width:0.8;\" x=\"38.482813\" xlink:href=\"#m9b8f6bdba3\" y=\"15.566246\"/>\r\n      </g>\r\n     </g>\r\n     <g id=\"text_11\">\r\n      <!-- 2.5 -->\r\n      <g transform=\"translate(15.579688 19.365465)scale(0.1 -0.1)\">\r\n       <use xlink:href=\"#DejaVuSans-50\"/>\r\n       <use x=\"63.623047\" xlink:href=\"#DejaVuSans-46\"/>\r\n       <use x=\"95.410156\" xlink:href=\"#DejaVuSans-53\"/>\r\n      </g>\r\n     </g>\r\n    </g>\r\n   </g>\r\n   <g id=\"line2d_12\">\r\n    <path clip-path=\"url(#pfde09980f1)\" d=\"M 131.799842 163.507879 \r\nL 131.799842 104.331226 \r\nL 190.976495 104.331226 \r\nL 190.976495 163.507879 \r\nL 131.799842 163.507879 \r\n\" style=\"fill:none;stroke:#6699cc;stroke-linecap:round;stroke-opacity:0.7;stroke-width:3;\"/>\r\n   </g>\r\n   <g id=\"line2d_13\">\r\n    <path clip-path=\"url(#pfde09980f1)\" d=\"M 131.799842 163.507879 \r\nL 131.799842 84.605675 \r\nL 197.551679 97.756042 \r\nL 222.840847 163.507879 \r\nL 131.799842 163.507879 \r\nL 131.799842 163.507879 \r\n\" style=\"fill:none;stroke:#ff00cc;stroke-linecap:round;stroke-opacity:0.7;stroke-width:3;\"/>\r\n   </g>\r\n   <g id=\"line2d_14\">\r\n    <path clip-path=\"url(#pfde09980f1)\" d=\"M 131.799842 163.507879 \r\nL 183.048327 133.919552 \r\nL 212.636654 185.168037 \r\nL 161.388169 214.756364 \r\nL 131.799842 163.507879 \r\nL 131.799842 163.507879 \r\n\" style=\"fill:none;stroke:#ff0100;stroke-linecap:round;stroke-opacity:0.7;stroke-width:3;\"/>\r\n   </g>\r\n   <g id=\"line2d_15\">\r\n    <path clip-path=\"url(#pfde09980f1)\" d=\"M 131.799842 163.507879 \r\nL 131.799842 104.331226 \r\nL 72.623189 104.331226 \r\nL 72.623189 163.507879 \r\nL 131.799842 163.507879 \r\nL 131.799842 163.507879 \r\n\" style=\"fill:none;stroke:#42f55a;stroke-linecap:round;stroke-opacity:0.7;stroke-width:3;\"/>\r\n   </g>\r\n   <g id=\"line2d_16\">\r\n    <path clip-path=\"url(#pfde09980f1)\" d=\"M 131.799842 163.507879 \r\nL 200.131155 124.056777 \r\nL 167.900106 28.77986 \r\nL 47.261767 17.083636 \r\nL 131.799842 163.507879 \r\nL 131.799842 163.507879 \r\n\" style=\"fill:none;stroke:#4245f5;stroke-linecap:round;stroke-opacity:0.7;stroke-width:3;\"/>\r\n   </g>\r\n   <g id=\"patch_3\">\r\n    <path d=\"M 38.482813 224.64 \r\nL 38.482813 7.2 \r\n\" style=\"fill:none;stroke:#000000;stroke-linecap:square;stroke-linejoin:miter;stroke-width:0.8;\"/>\r\n   </g>\r\n   <g id=\"patch_4\">\r\n    <path d=\"M 231.619801 224.64 \r\nL 231.619801 7.2 \r\n\" style=\"fill:none;stroke:#000000;stroke-linecap:square;stroke-linejoin:miter;stroke-width:0.8;\"/>\r\n   </g>\r\n   <g id=\"patch_5\">\r\n    <path d=\"M 38.482813 224.64 \r\nL 231.619801 224.64 \r\n\" style=\"fill:none;stroke:#000000;stroke-linecap:square;stroke-linejoin:miter;stroke-width:0.8;\"/>\r\n   </g>\r\n   <g id=\"patch_6\">\r\n    <path d=\"M 38.482813 7.2 \r\nL 231.619801 7.2 \r\n\" style=\"fill:none;stroke:#000000;stroke-linecap:square;stroke-linejoin:miter;stroke-width:0.8;\"/>\r\n   </g>\r\n  </g>\r\n </g>\r\n <defs>\r\n  <clipPath id=\"pfde09980f1\">\r\n   <rect height=\"217.44\" width=\"193.136989\" x=\"38.482813\" y=\"7.2\"/>\r\n  </clipPath>\r\n </defs>\r\n</svg>\r\n",
      "image/png": "[encoded data removed]"
     },
     "metadata": {
      "needs_background": "light"
     }
    }
   ],
   "source": [
    "import matplotlib.pyplot as plt\n",
    "import numpy as np\n",
    "import string\n",
    "# points a, b and, c\n",
    "a, b, c, d = (0, 0, 1), (0, 1, 1), (1, 1, 1), (1, 0, 1) #In homogenous form\n",
    "# matrix with row vectors of points\n",
    "P = np.array([a, b, c, d]).T\n",
    "P = P/P[-1, :]  #divide by the last row to get inhomogeneous coordinates no use here idk why\n",
    "P = np.insert(P,4,P[:,0],axis=1) \n",
    "x = P[0, :] #first row of P\n",
    "y = P[1, :] #second row of P\n",
    "print(\"Points \\n\", P) \n",
    "fig, ax = plt.subplots(1,1, sharex=True, sharey=True)                                                                     \n",
    "\n",
    "#Original points                            \n",
    "ax.plot(x, y, color='#6699cc', alpha=0.7,linewidth=3, solid_capstyle='round', zorder=2)\n",
    "ax.set_aspect('equal')\n",
    "\n",
    "\n",
    "#First transformation \n",
    "H_1 = np.identity(3)\n",
    "H_1[0,0] = 2\n",
    "H_1[1,1] = 2\n",
    "H_1[2, 0] = 0.3\n",
    "H_1[2, 1] = 0.5\n",
    "print(\"H_1 \\n\",H_1)\n",
    "Pt_1 = np.matmul(H_1, P)\n",
    "Pt_1 = Pt_1/Pt_1[-1, :]  #Converting to inhomogeneous coordinates\n",
    "Pt_1 = np.insert(Pt_1,4,Pt_1[:,0],axis=1) #take the first column and append to the last, so the last point is plotted twice completing the square, omfg\n",
    "xt_1 = Pt_1[0, :]\n",
    "yt_1 = Pt_1[1, :]\n",
    "ax.plot(xt_1, yt_1, color='#ff00cc', alpha=0.7,linewidth=3, solid_capstyle='round', zorder=2)\n",
    "ax.set_aspect('equal')\n",
    "\n",
    "\n",
    "#Second transformation\n",
    "t = np.pi/3\n",
    "H_2 = np.array(([np.cos(t), np.sin(t), 0.], [-np.sin(t), np.cos(t), 0.], [0., 0., 1.]))\n",
    "print(\"H_2\\n\",H_2)\n",
    "Pt_2 = np.matmul(H_2,P) \n",
    "Pt_2 = Pt_2/Pt_2[-1, :]\n",
    "Pt_2 = np.insert(Pt_2,4,Pt_2[:,0],axis=1)  \n",
    "xt_2 = Pt_2[0, :]\n",
    "yt_2 = Pt_2[1, :]\n",
    "ax.plot(xt_2, yt_2, color='#ff0100', alpha=0.7,linewidth=3, solid_capstyle='round', zorder=2)\n",
    "ax.set_aspect('equal')\n",
    "\n",
    "\n",
    "#third transformation\n",
    "H_3 = np.array(([-1,0,0], [0,1,0], [0., 0., 1.]))\n",
    "print(\"H_3 \\n\",H_3)\n",
    "Pt_3 = np.matmul(H_3,P)\n",
    "Pt_3 = Pt_3/Pt_3[-1, :]\n",
    "Pt_3 = np.insert(Pt_3,4,Pt_3[:,0],axis=1)  \n",
    "xt_3 = Pt_3[0, :]\n",
    "yt_3 = Pt_3[1, :]\n",
    "ax.plot(xt_3, yt_3, color='#42f55a', alpha=0.7,linewidth=3, solid_capstyle='round', zorder=2)\n",
    "ax.set_aspect('equal')\n",
    "\n",
    "\n",
    "#fourth transformation\n",
    "H_4 = np.matmul(H_2,np.matmul(H_1,H_3))\n",
    "print(\"H_4 \\n\",H_4)\n",
    "Pt_4 = np.matmul(H_4,P)\n",
    "Pt_4 = Pt_4/Pt_4[-1, :]\n",
    "Pt_4 = np.insert(Pt_4,4,Pt_4[:,0],axis=1)  \n",
    "xt_4 = Pt_4[0, :]\n",
    "yt_4 = Pt_4[1, :]\n",
    "ax.plot(xt_4, yt_4, color='#4245f5', alpha=0.7,linewidth=3, solid_capstyle='round', zorder=2)\n",
    "ax.set_aspect('equal')\n",
    "plt.show()"
   ]
  },
  {
   "cell_type": "code",
   "execution_count": 59,
   "metadata": {},
   "outputs": [
    {
     "output_type": "stream",
     "name": "stdout",
     "text": [
      "[[0.62544644, 0.057759174, 222.01217], [0.22240536, 1.1652147, -25.605611], [0.00049212545, -3.6542424e-05, 1.0]]\n"
     ]
    }
   ],
   "source": [
    "import cv2 as cv\n",
    "import numpy as np\n",
    "im1 = cv.imread('images/assn2/graf/img1.ppm', cv.IMREAD_ANYCOLOR)\n",
    "im5 = cv.imread('images/assn2/graf/img5.ppm', cv.IMREAD_ANYCOLOR)\n",
    "with open('images/assn2/graf/H1to5p') as f:\n",
    "    H = [[float(x) for x in line.split()] for line in f]\n",
    "print(H)\n",
    "H = np.array(H)\n",
    "im5_warped = cv.warpPerspective(im5, np.linalg.inv(H), (1000,1000))\n",
    "im5_warped[0:im1.shape[0], 0:im1.shape[1]] = im1\n",
    "cv.namedWindow(\"Image 1\", cv.WINDOW_AUTOSIZE)\n",
    "cv.imshow(\"Image 1\", im1)\n",
    "cv.waitKey(0)\n",
    "cv.namedWindow(\"Image 5\", cv.WINDOW_AUTOSIZE)\n",
    "cv.imshow(\"Image 5\", im5)\n",
    "cv.waitKey(0)\n",
    "cv.namedWindow(\"Image 5 Warped\", cv.WINDOW_AUTOSIZE)\n",
    "cv.imshow(\"Image 5 Warped\", im5_warped)\n",
    "cv.waitKey(0)\n",
    "cv.destroyAllWindows()"
   ]
  },
  {
   "cell_type": "code",
   "execution_count": 63,
   "metadata": {},
   "outputs": [
    {
     "output_type": "stream",
     "name": "stdout",
     "text": [
      "[[721.  98.]\n [715. 374.]\n [355. 448.]\n [248. 147.]\n [723. 103.]]\n[[478.  72.]\n [209. 204.]\n [378. 505.]\n [681. 283.]\n [478.  70.]]\n"
     ]
    }
   ],
   "source": [
    "import cv2 as cv\n",
    "import numpy as np\n",
    "N = 5\n",
    "global n\n",
    "n = 0\n",
    "p1 = np.empty((N,2))\n",
    "p2 = np.empty((N,2))\n",
    "\n",
    "# mouse callback function\n",
    "def draw_circle(event,x,y,flags,param):\n",
    "    global n\n",
    "    p = param[0]\n",
    "    if event == cv.EVENT_LBUTTONDOWN:  \n",
    "        cv.circle(param[1],(x,y),5,(255,0,0),-1)\n",
    "        p[n] = (x,y)\n",
    "        n += 1\n",
    "\n",
    "im1 = cv.imread('images/assn2/graf/img1.ppm', cv.IMREAD_ANYCOLOR)\n",
    "im4 = cv.imread('images/assn2/graf/img4.ppm', cv.IMREAD_ANYCOLOR)\n",
    "\n",
    "im1copy = im1.copy()\n",
    "im4copy = im4.copy()\n",
    "\n",
    "cv.namedWindow('Image 1', cv.WINDOW_AUTOSIZE)\n",
    "\n",
    "param = [p1, im1copy]\n",
    "cv.setMouseCallback('Image 1',draw_circle, param)\n",
    "\n",
    "while(1):\n",
    "    cv.imshow(\"Image 1\", im1copy)\n",
    "    if n == N:\n",
    "        break\n",
    "    if cv.waitKey(20) & 0xFF == 27:\n",
    "        break\n",
    "\n",
    "param = [p2, im4copy]\n",
    "n = 0\n",
    "cv.namedWindow(\"Image 4\", cv.WINDOW_AUTOSIZE)\n",
    "cv.setMouseCallback('Image 4',draw_circle, param)\n",
    "\n",
    "while(1):\n",
    "    cv.imshow(\"Image 4\", im4copy)\n",
    "    if n == N:\n",
    "        break\n",
    "    if cv.waitKey(20) & 0xFF == 27:\n",
    "        break\n",
    "\n",
    "print(p1)\n",
    "print(p2)\n",
    "\n",
    "cv.destroyAllWindows()"
   ]
  },
  {
   "cell_type": "code",
   "execution_count": null,
   "metadata": {},
   "outputs": [],
   "source": [
    "\n"
   ]
  }
 ]
}